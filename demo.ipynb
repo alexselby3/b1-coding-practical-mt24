{
 "cells": [
  {
   "cell_type": "code",
   "execution_count": 21,
   "metadata": {},
   "outputs": [],
   "source": [
    "# Add relevant Jupyter notebook extensions \n",
    "from __future__ import annotations\n",
    "from dataclasses import dataclass\n",
    "import numpy as np\n",
    "import matplotlib.pyplot as plt\n",
    "import pandas as pd"
   ]
  },
  {
   "cell_type": "code",
   "execution_count": 22,
   "metadata": {},
   "outputs": [
    {
     "name": "stdout",
     "output_type": "stream",
     "text": [
      "['d:\\\\Users\\\\Alexander Selby\\\\Documents\\\\UNIVERSITY\\\\Engineering\\\\Year 3\\\\B1\\\\Scientific Coding\\\\vscode0\\\\b1-coding-practical-mt24', 'c:\\\\Users\\\\Alexander Selby\\\\anaconda3\\\\python39.zip', 'c:\\\\Users\\\\Alexander Selby\\\\anaconda3\\\\DLLs', 'c:\\\\Users\\\\Alexander Selby\\\\anaconda3\\\\lib', 'c:\\\\Users\\\\Alexander Selby\\\\anaconda3', '', 'c:\\\\Users\\\\Alexander Selby\\\\anaconda3\\\\lib\\\\site-packages', 'c:\\\\Users\\\\Alexander Selby\\\\anaconda3\\\\lib\\\\site-packages\\\\win32', 'c:\\\\Users\\\\Alexander Selby\\\\anaconda3\\\\lib\\\\site-packages\\\\win32\\\\lib', 'c:\\\\Users\\\\Alexander Selby\\\\anaconda3\\\\lib\\\\site-packages\\\\Pythonwin']\n"
     ]
    }
   ],
   "source": [
    "# You can double-check your Python path like this...\n",
    "import sys  \n",
    "print(sys.path)"
   ]
  },
  {
   "cell_type": "markdown",
   "metadata": {},
   "source": [
    "# Simulate closed-loop\n",
    "After implementing your control functionality, you can simulate the closed-loop with code that looks something like this..."
   ]
  },
  {
   "cell_type": "code",
   "execution_count": 23,
   "metadata": {},
   "outputs": [
    {
     "ename": "TypeError",
     "evalue": "compute_control_action() missing 1 required positional argument: 'output'",
     "output_type": "error",
     "traceback": [
      "\u001b[1;31m---------------------------------------------------------------------------\u001b[0m",
      "\u001b[1;31mTypeError\u001b[0m                                 Traceback (most recent call last)",
      "Input \u001b[1;32mIn [23]\u001b[0m, in \u001b[0;36m<cell line: 11>\u001b[1;34m()\u001b[0m\n\u001b[0;32m      8\u001b[0m closed_loop \u001b[38;5;241m=\u001b[39m ClosedLoop(sub, PDcontroller)\n\u001b[0;32m      9\u001b[0m mission \u001b[38;5;241m=\u001b[39m Mission\u001b[38;5;241m.\u001b[39mfrom_csv(\u001b[38;5;124m\"\u001b[39m\u001b[38;5;124mC:/Users/Alexander Selby/Documents/UNIVERSITY/Engineering/Year 3/B1/Scientific Coding/vscode0/b1-coding-practical-mt24/data/mission.csv\u001b[39m\u001b[38;5;124m\"\u001b[39m) \u001b[38;5;66;03m# You must implement this method in the Mission class\u001b[39;00m\n\u001b[1;32m---> 11\u001b[0m trajectory \u001b[38;5;241m=\u001b[39m \u001b[43mclosed_loop\u001b[49m\u001b[38;5;241;43m.\u001b[39;49m\u001b[43msimulate_with_random_disturbances\u001b[49m\u001b[43m(\u001b[49m\u001b[43mmission\u001b[49m\u001b[43m)\u001b[49m\n\u001b[0;32m     12\u001b[0m trajectory\u001b[38;5;241m.\u001b[39mplot_completed_mission(mission)\n",
      "File \u001b[1;32md:\\Users\\Alexander Selby\\Documents\\UNIVERSITY\\Engineering\\Year 3\\B1\\Scientific Coding\\vscode0\\b1-coding-practical-mt24\\uuv_mission\\dynamic.py:116\u001b[0m, in \u001b[0;36mClosedLoop.simulate_with_random_disturbances\u001b[1;34m(self, mission, variance)\u001b[0m\n\u001b[0;32m    114\u001b[0m \u001b[38;5;28;01mdef\u001b[39;00m \u001b[38;5;21msimulate_with_random_disturbances\u001b[39m(\u001b[38;5;28mself\u001b[39m, mission: Mission, variance: \u001b[38;5;28mfloat\u001b[39m \u001b[38;5;241m=\u001b[39m \u001b[38;5;241m0.5\u001b[39m) \u001b[38;5;241m-\u001b[39m\u001b[38;5;241m>\u001b[39m Trajectory:\n\u001b[0;32m    115\u001b[0m     disturbances \u001b[38;5;241m=\u001b[39m np\u001b[38;5;241m.\u001b[39mrandom\u001b[38;5;241m.\u001b[39mnormal(\u001b[38;5;241m0\u001b[39m, variance, \u001b[38;5;28mlen\u001b[39m(mission\u001b[38;5;241m.\u001b[39mreference))\n\u001b[1;32m--> 116\u001b[0m     \u001b[38;5;28;01mreturn\u001b[39;00m \u001b[38;5;28;43mself\u001b[39;49m\u001b[38;5;241;43m.\u001b[39;49m\u001b[43msimulate\u001b[49m\u001b[43m(\u001b[49m\u001b[43mmission\u001b[49m\u001b[43m,\u001b[49m\u001b[43m \u001b[49m\u001b[43mdisturbances\u001b[49m\u001b[43m)\u001b[49m\n",
      "File \u001b[1;32md:\\Users\\Alexander Selby\\Documents\\UNIVERSITY\\Engineering\\Year 3\\B1\\Scientific Coding\\vscode0\\b1-coding-practical-mt24\\uuv_mission\\dynamic.py:109\u001b[0m, in \u001b[0;36mClosedLoop.simulate\u001b[1;34m(self, mission, disturbances)\u001b[0m\n\u001b[0;32m    107\u001b[0m     observation_t \u001b[38;5;241m=\u001b[39m \u001b[38;5;28mself\u001b[39m\u001b[38;5;241m.\u001b[39mplant\u001b[38;5;241m.\u001b[39mget_depth()\n\u001b[0;32m    108\u001b[0m     reference_t \u001b[38;5;241m=\u001b[39m mission\u001b[38;5;241m.\u001b[39mreference[t]\n\u001b[1;32m--> 109\u001b[0m     actions[t] \u001b[38;5;241m=\u001b[39m \u001b[38;5;28;43mself\u001b[39;49m\u001b[38;5;241;43m.\u001b[39;49m\u001b[43mcontroller\u001b[49m\u001b[38;5;241;43m.\u001b[39;49m\u001b[43mcompute_control_action\u001b[49m\u001b[43m(\u001b[49m\u001b[43mreference_t\u001b[49m\u001b[43m,\u001b[49m\u001b[43m \u001b[49m\u001b[43mobservation_t\u001b[49m\u001b[43m)\u001b[49m      \u001b[38;5;66;03m# Call controller here\u001b[39;00m\n\u001b[0;32m    110\u001b[0m     \u001b[38;5;28mself\u001b[39m\u001b[38;5;241m.\u001b[39mplant\u001b[38;5;241m.\u001b[39mtransition(actions[t], disturbances[t])\n\u001b[0;32m    112\u001b[0m \u001b[38;5;28;01mreturn\u001b[39;00m Trajectory(positions)\n",
      "\u001b[1;31mTypeError\u001b[0m: compute_control_action() missing 1 required positional argument: 'output'"
     ]
    }
   ],
   "source": [
    "# Import relevant modules\n",
    "import sys\n",
    "import os\n",
    "from uuv_mission.dynamic import Submarine,ClosedLoop,Mission\n",
    "from uuv_mission.controller import PDcontroller\n",
    "sub = Submarine()\n",
    "# Instantiate your controller (depending on your implementation)\n",
    "closed_loop = ClosedLoop(sub, PDcontroller)\n",
    "mission = Mission.from_csv(\"C:/Users/Alexander Selby/Documents/UNIVERSITY/Engineering/Year 3/B1/Scientific Coding/vscode0/b1-coding-practical-mt24/data/mission.csv\") # You must implement this method in the Mission class\n",
    "\n",
    "trajectory = closed_loop.simulate_with_random_disturbances(mission)\n",
    "trajectory.plot_completed_mission(mission)"
   ]
  }
 ],
 "metadata": {
  "kernelspec": {
   "display_name": "base",
   "language": "python",
   "name": "python3"
  },
  "language_info": {
   "codemirror_mode": {
    "name": "ipython",
    "version": 3
   },
   "file_extension": ".py",
   "mimetype": "text/x-python",
   "name": "python",
   "nbconvert_exporter": "python",
   "pygments_lexer": "ipython3",
   "version": "3.9.12"
  }
 },
 "nbformat": 4,
 "nbformat_minor": 2
}
